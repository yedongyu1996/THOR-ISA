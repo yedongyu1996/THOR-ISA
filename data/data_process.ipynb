{
 "cells": [
  {
   "cell_type": "code",
   "id": "initial_id",
   "metadata": {
    "collapsed": true,
    "ExecuteTime": {
     "end_time": "2025-06-04T05:25:23.716553Z",
     "start_time": "2025-06-04T05:25:23.673036Z"
    }
   },
   "source": [
    "import xml.etree.ElementTree as ET\n",
    "import json\n",
    "# 解析XML文件\n",
    "\"\"\"\n",
    "转化下数据\n",
    "\"\"\"\n",
    "dataset = \"restaurants\"\n",
    "split = \"test\"\n",
    "\n",
    "tree = ET.parse(dataset + '/' + split + \"_\" +dataset + '.xml')\n",
    "root = tree.getroot()\n",
    "data = []\n",
    "for i in root.findall('sentence'):\n",
    "    single_data = {'text': i.find('text').text}\n",
    "    if i.find('aspectTerms'):\n",
    "        for e in i.find('aspectTerms').findall('aspectTerm'):\n",
    "            term = e.get('term')\n",
    "            polarity = e.get('polarity') # negative/positive/neutral/conflict\n",
    "            implicit = e.get('implicit_sentiment', \"####\") # False/True\n",
    "            opinion = e.get('opinion_words', '####') # False/True\n",
    "            start = e.get('from')\n",
    "            end = e.get('to')\n",
    "            if \"aspects\" in single_data:\n",
    "                single_data['aspects'].append({'term': term, \"polarity\": polarity, \"implicit\": implicit, \"from_to\": [start, end], \"opinion\": opinion})\n",
    "            else:\n",
    "                single_data['aspects'] = [{'term': term, \"polarity\": polarity, \"implicit\": implicit, \"from_to\": [start, end], \"opinion\": opinion}]\n",
    "    data.append(single_data)\n",
    "\n",
    "tmp_data = []\n",
    "for i in data:\n",
    "    if 'aspects' in i:\n",
    "        answers = []\n",
    "        aspects = []\n",
    "        text = i['text']\n",
    "        for j in i['aspects']:\n",
    "            aspects.append(j['term'])\n",
    "            answers.append(j['polarity'])\n",
    "#             user_prompt = \"\"\"<|im_start|>user\n",
    "# Please analyze the sentiment polarity of aspect {} in sentence \"{}\"<|im_end|>\"\"\".format(', '.join(aspects), ', '.join(answers))\n",
    "        user_prompt = \"Analyze the sentiment polarity of \" + str(len(aspects))\n",
    "        if len(aspects) > 1:\n",
    "            user_prompt += \" aspects “{}” in the comment “{}”\".format(', '.join(aspects), text)\n",
    "        else:\n",
    "            user_prompt += \" aspect “{}” in the comment “{}”\".format(', '.join(aspects), text)\n",
    "        tmp_data.append({\"question\":user_prompt, \"answer\":', '.join(answers), \"original_data\":i})\n",
    "with open(dataset+\"_\"+split+\".json\", \"w+\", encoding='utf-8') as f:\n",
    "    json.dump(tmp_data, f, ensure_ascii=False, indent=4)"
   ],
   "outputs": [],
   "execution_count": 10
  },
  {
   "metadata": {
    "ExecuteTime": {
     "end_time": "2025-06-04T05:33:11.019863Z",
     "start_time": "2025-06-04T05:33:11.013225Z"
    }
   },
   "cell_type": "code",
   "source": [
    "system_prompt = \"\"\"You are a sentiment analysis assistant, performing sentiment analysis on a given laptop product review and corresponding aspects. There are only four emotion categories: positive, negative, conflict, and neutral. The assistant first thinks about the reasoning process in the mind and then provides the user with the answer. The reasoning process and answer are enclosed within <reasoning> </reasoning> and <answer> </answer> tags, respectively, i.e., <reasoning> reasoning process here </reasoning> <answer> answer here </answer>. For example, analyze the sentiment polarity of 4 aspects “battery, screen, price and warranty” in sentence \"Good battery, bad screen, the price is expensive but worth it, not sure about the warranty\". <reasoning> Let’s analyze it step by step. Users need to analyze the sentiment polarity of words in four aspects. The sentence expresses distinct opinions about different aspects. The phrase “Good battery” clearly conveys a positive sentiment toward the battery, using the adjective “good” without any qualifiers. In contrast, “bad screen” directly reflects a negative sentiment about the screen, as “bad” is an unambiguous negative descriptor. The statement “the price is expensive but worth it” presents a conflicted view of the price: while “expensive” suggests a negative perception, “worth it” introduces a compensating positive judgment, indicating mixed feelings. Finally, “not sure about the warranty” reveals uncertainty rather than any clear opinion, making the sentiment toward the warranty neutral. </reasoning> <answer> positive, negative, conflict, neutral </answer>\"\"\"\n",
    "\n",
    "system_prompt = \"\"\"You are a sentiment analysis assistant. Given a laptop product review and a list of aspects, your task is to determine the sentiment polarity for each aspect. The possible sentiment categories are: positive, negative, conflict, and neutral.\n",
    "\n",
    "You must first explain your reasoning and then provide the final sentiment labels. Wrap your explanation inside <reasoning> tags and the final output inside <answer> tags. The format must be:\n",
    "\n",
    "<reasoning> your reasoning here </reasoning>\n",
    "<answer> label1, label2, ... </answer>\n",
    "\n",
    "Example:\n",
    "Sentence: \"Good battery, bad screen, the price is expensive but worth it, not sure about the warranty\"\n",
    "Aspects: battery, screen, price, warranty\n",
    "<reasoning>Let’s analyze it step by step. Users need to analyze the sentiment polarity of words in 4 aspects. The phrase “Good battery” expresses a clearly positive opinion toward the battery. “bad screen” reflects a negative sentiment about the screen. “the price is expensive but worth it” indicates a mix of negative and positive cues, thus a conflicted sentiment. “not sure about the warranty” shows uncertainty, so the sentiment is neutral. </reasoning>\n",
    "<answer>positive, negative, conflict, neutral</answer>\n",
    "\"\"\""
   ],
   "id": "aaebbb6542bb7141",
   "outputs": [],
   "execution_count": 11
  },
  {
   "metadata": {},
   "cell_type": "code",
   "outputs": [],
   "execution_count": null,
   "source": [
    "请阅读以下评论，并结合给定的方面词和情感极性，进行逐个方面的情感分析，推理过程应自然流畅，体现出模型在理解语义后作出的判断，而非列出参考答案。\n",
    "\n",
    "【评论】：\n",
    "I am pleased with the fast log on, speedy WiFi connection and the long battery life (>6 hrs).\n",
    "\n",
    "【方面词及其情感】：\n",
    "log on：positive\n",
    "WiFi connection: positive\n",
    "battery life: positive\n",
    "\n",
    "请你结合文本内容，对每个方面进行推理分析，写出你是如何判断出其情感极性的。推理可以适当引用评论中的具体句子，但不要照搬原文，要用自己的话组织语言，使推理过程看起来像是你自己思考后的结果。\n",
    "推理过程必须用英文表达。\n",
    "如果包含多个方面词，只需要在一段话中返回全部推理。\n",
    "只需要返回推理过程，不需要返回任何解释和说明，以json格式返回。\n",
    "\n",
    "【输出格式】：\n",
    "{“reasoning”：reasoning}  -> {str:str}"
   ],
   "id": "480cd5bf4f46b0"
  }
 ],
 "metadata": {
  "kernelspec": {
   "display_name": "Python 3",
   "language": "python",
   "name": "python3"
  },
  "language_info": {
   "codemirror_mode": {
    "name": "ipython",
    "version": 2
   },
   "file_extension": ".py",
   "mimetype": "text/x-python",
   "name": "python",
   "nbconvert_exporter": "python",
   "pygments_lexer": "ipython2",
   "version": "2.7.6"
  }
 },
 "nbformat": 4,
 "nbformat_minor": 5
}
