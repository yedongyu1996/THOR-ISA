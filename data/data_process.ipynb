{
 "cells": [
  {
   "cell_type": "code",
   "id": "initial_id",
   "metadata": {
    "collapsed": true,
    "ExecuteTime": {
     "end_time": "2025-06-03T09:46:39.043590Z",
     "start_time": "2025-06-03T09:46:38.975536Z"
    }
   },
   "source": [
    "import xml.etree.ElementTree as ET\n",
    "import json\n",
    "# 解析XML文件\n",
    "tree = ET.parse('laptops/Laptops_Train_v2_Implicit_Labeled.xml')\n",
    "root = tree.getroot()\n",
    "data = []\n",
    "for i in root.findall('sentence'):\n",
    "    single_data = {'text': i.find('text').text}\n",
    "    if i.find('aspectTerms'):\n",
    "        for e in i.find('aspectTerms').findall('aspectTerm'):\n",
    "            term = e.get('term')\n",
    "            polarity = e.get('polarity') # negative/positive/neutral/conflict\n",
    "            implicit = e.get('implicit_sentiment', \"####\") # False/True\n",
    "            opinion = e.get('opinion_words', '####') # False/True\n",
    "            start = e.get('from')\n",
    "            end = e.get('to')\n",
    "            if \"aspects\" in single_data:\n",
    "                single_data['aspects'].append({'term': term, \"polarity\": polarity, \"implicit\": implicit, \"from_to\": [start, end], \"opinion\": opinion})\n",
    "            else:\n",
    "                single_data['aspects'] = [{'term': term, \"polarity\": polarity, \"implicit\": implicit, \"from_to\": [start, end], \"opinion\": opinion}]\n",
    "    data.append(single_data)\n",
    "\n",
    "file_path = \"laptops/laptops_train.json\"         # 输出的 JSON 文件路径\n",
    "\n",
    "# 将 list 写入 JSON 文件\n",
    "with open(file_path, \"w+\") as f:\n",
    "    json.dump(data, f, indent=4)  # indent=4 使 JSON 文件格式化更美观"
   ],
   "outputs": [],
   "execution_count": 20
  },
  {
   "metadata": {
    "ExecuteTime": {
     "end_time": "2025-06-03T09:46:49.248923Z",
     "start_time": "2025-06-03T09:46:49.235914Z"
    }
   },
   "cell_type": "code",
   "source": [
    "import json\n",
    "train_data = []\n",
    "with open('laptops/laptops_train.json', 'r+', encoding='utf-8') as f:\n",
    "    system_prompt = \"\"\"You are a sentiment analysis assistant, performing sentiment analysis on a given laptop product review and corresponding aspects. There are only four emotion categories: positive, negative, conflict, and neutral. The assistant first thinks about the reasoning process in the mind and then provides the user with the answer. The reasoning process and answer are enclosed within <reasoning> </reasoning> and <answer> </answer> tags, respectively, i.e., <reasoning> reasoning process here </reasoning> <answer> answer here </answer>. For example, analyze the sentiment polarity of battery, screen, price and warranty in sentence \"Good battery, bad screen, the price is expensive but worth it, not sure about the warranty\". <reasoning> Let’s analyze it step by step. The sentence expresses distinct opinions about different aspects. The phrase “Good battery” clearly conveys a positive sentiment toward the battery, using the adjective “good” without any qualifiers. In contrast, “bad screen” directly reflects a negative sentiment about the screen, as “bad” is an unambiguous negative descriptor. The statement “the price is expensive but worth it” presents a conflicted view of the price: while “expensive” suggests a negative perception, “worth it” introduces a compensating positive judgment, indicating mixed feelings. Finally, “not sure about the warranty” reveals uncertainty rather than any clear opinion, making the sentiment toward the warranty neutral. </reasoning> <answer> positive, negative, conflict, neutral </answer>\"\"\"\n",
    "    data = json.load(f)\n",
    "    for i in data:\n",
    "        if 'aspects' in i:\n",
    "            answers = []\n",
    "            aspects = []\n",
    "            text = i['text']\n",
    "            for j in i['aspects']:\n",
    "                aspects.append(j['term'])\n",
    "                answers.append(j['polarity'])\n",
    "#             user_prompt = \"\"\"<|im_start|>user\n",
    "# Please analyze the sentiment polarity of aspect {} in sentence \"{}\"<|im_end|>\"\"\".format(', '.join(aspects), ', '.join(answers))\n",
    "            user_prompt = \"\"\"Analyze the sentiment polarity of aspect “{}” in sentence “{}”\"\"\".format(', '.join(aspects), text)\n",
    "            train_data.append({\"question\":user_prompt, \"answer\":' '.join(answers)})\n",
    "\n"
   ],
   "id": "70456afb1223e197",
   "outputs": [],
   "execution_count": 21
  },
  {
   "metadata": {
    "ExecuteTime": {
     "end_time": "2025-06-03T09:46:50.969166Z",
     "start_time": "2025-06-03T09:46:50.965177Z"
    }
   },
   "cell_type": "code",
   "source": "len(train_data)",
   "id": "aaebbb6542bb7141",
   "outputs": [
    {
     "data": {
      "text/plain": [
       "1488"
      ]
     },
     "execution_count": 22,
     "metadata": {},
     "output_type": "execute_result"
    }
   ],
   "execution_count": 22
  },
  {
   "metadata": {
    "ExecuteTime": {
     "end_time": "2025-06-03T09:46:53.471337Z",
     "start_time": "2025-06-03T09:46:53.460338Z"
    }
   },
   "cell_type": "code",
   "source": [
    "with open(\"laptop_train.json\", \"w+\", encoding='utf-8') as f:\n",
    "    json.dump(train_data, f, ensure_ascii=False)"
   ],
   "id": "3e186a27dd20456b",
   "outputs": [],
   "execution_count": 23
  },
  {
   "metadata": {
    "ExecuteTime": {
     "end_time": "2025-06-02T15:18:27.621835Z",
     "start_time": "2025-06-02T15:18:27.615776Z"
    }
   },
   "cell_type": "code",
   "source": [
    "a = [\"a\", \"b\"]\n",
    "', '.join(a)"
   ],
   "id": "d74750ba404a64ba",
   "outputs": [
    {
     "data": {
      "text/plain": [
       "'a, b'"
      ]
     },
     "execution_count": 17,
     "metadata": {},
     "output_type": "execute_result"
    }
   ],
   "execution_count": 17
  },
  {
   "metadata": {},
   "cell_type": "code",
   "outputs": [],
   "execution_count": null,
   "source": "",
   "id": "480cd5bf4f46b0"
  }
 ],
 "metadata": {
  "kernelspec": {
   "display_name": "Python 3",
   "language": "python",
   "name": "python3"
  },
  "language_info": {
   "codemirror_mode": {
    "name": "ipython",
    "version": 2
   },
   "file_extension": ".py",
   "mimetype": "text/x-python",
   "name": "python",
   "nbconvert_exporter": "python",
   "pygments_lexer": "ipython2",
   "version": "2.7.6"
  }
 },
 "nbformat": 4,
 "nbformat_minor": 5
}
