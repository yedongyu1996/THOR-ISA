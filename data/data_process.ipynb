{
 "cells": [
  {
   "cell_type": "code",
   "id": "initial_id",
   "metadata": {
    "collapsed": true,
    "ExecuteTime": {
     "end_time": "2025-06-07T06:38:41.001092Z",
     "start_time": "2025-06-07T06:38:40.389758Z"
    }
   },
   "source": [
    "import xml.etree.ElementTree as ET\n",
    "import json\n",
    "# 解析XML文件\n",
    "\"\"\"\n",
    "转化下数据\n",
    "\"\"\"\n",
    "def build_dataset(dataset, split):\n",
    "    tree = ET.parse(dataset + '/' + split + \"_\" + dataset + '.xml')\n",
    "    root = tree.getroot()\n",
    "    data = []\n",
    "    sentiment = {\"positive\":0,\"neutral\":0,\"negative\":0,\"conflict\":0}\n",
    "    for i in root.findall('sentence'):\n",
    "        single_data = {'text': i.find('text').text, \"id\": i.get('id')}\n",
    "        data.append(single_data)\n",
    "        if i.find('aspectTerms'):\n",
    "            for e in i.find('aspectTerms').findall('aspectTerm'):\n",
    "                term = e.get('term')\n",
    "                polarity = e.get('polarity') # negative/positive/neutral/conflict\n",
    "                implicit = e.get('implicit_sentiment', \"####\") # False/True\n",
    "                opinion = e.get('opinion_words', '####') # False/True\n",
    "                start = e.get('from')\n",
    "                end = e.get('to')\n",
    "                if \"aspects\" in single_data:\n",
    "                    single_data['aspects'].append({'term': term, \"polarity\": polarity, \"implicit\": implicit, \"from_to\": [start, end], \"opinion\": opinion})\n",
    "                else:\n",
    "                    single_data['aspects'] = [{'term': term, \"polarity\": polarity, \"implicit\": implicit, \"from_to\": [start, end], \"opinion\": opinion}]\n",
    "        if single_data not in data:\n",
    "            data.append(single_data)\n",
    "    tmp_data = []\n",
    "    for i in data:\n",
    "        if 'aspects' in i:\n",
    "            text = i['text']\n",
    "            for j in i['aspects']:\n",
    "                user_prompt = \"Analyze the sentiment polarity of aspects “{}” in the comment “{}”\".format(j['term'], text)\n",
    "                tmp_data.append({\"question\":user_prompt, \"answer\":j['polarity'], \"original_data\":i})\n",
    "                sentiment[j['polarity']] = sentiment[j['polarity']] + 1\n",
    "    print(len(tmp_data))\n",
    "    print(sentiment)\n",
    "    with open(dataset+\"_\"+split+\".json\", \"w+\", encoding='utf-8') as f:\n",
    "        json.dump(tmp_data, f, ensure_ascii=False, indent=4)\n",
    "\n",
    "datasets = [\"laptops\", \"restaurants\"]\n",
    "splits = [\"train\", \"test\"]\n",
    "# datasets = [\"laptops\"]\n",
    "# splits = [\"train\"]\n",
    "for d in datasets:\n",
    "    for s in splits:\n",
    "        build_dataset(d, s)"
   ],
   "outputs": [
    {
     "name": "stdout",
     "output_type": "stream",
     "text": [
      "2358\n",
      "{'positive': 987, 'neutral': 460, 'negative': 866, 'conflict': 45}\n",
      "654\n",
      "{'positive': 341, 'neutral': 169, 'negative': 128, 'conflict': 16}\n",
      "3693\n",
      "{'positive': 2164, 'neutral': 633, 'negative': 805, 'conflict': 91}\n",
      "1134\n",
      "{'positive': 728, 'neutral': 196, 'negative': 196, 'conflict': 14}\n"
     ]
    }
   ],
   "execution_count": 2
  },
  {
   "metadata": {
    "ExecuteTime": {
     "end_time": "2025-06-07T06:52:34.094311Z",
     "start_time": "2025-06-07T06:52:33.961035Z"
    }
   },
   "cell_type": "code",
   "source": [
    "import json\n",
    "with open(\"laptops_train.json\", \"r+\", encoding='utf-8') as f:\n",
    "    train_data = json.load(f)\n",
    "with open(\"laptops_test.json\", \"r+\", encoding='utf-8') as f:\n",
    "    test_data = json.load(f)\n",
    "with open(\"laptops_train_test_extra.json\", \"w+\", encoding='utf-8') as f:\n",
    "    for i in test_data:\n",
    "        if i['answer'] == \"neutral\" or i[\"answer\"] == \"conflict\":\n",
    "            train_data.append(i)\n",
    "    print(len(train_data))\n",
    "    json.dump(train_data, f, ensure_ascii=False, indent=4)"
   ],
   "id": "5815a1b538d50f73",
   "outputs": [
    {
     "name": "stdout",
     "output_type": "stream",
     "text": [
      "2543\n"
     ]
    }
   ],
   "execution_count": 3
  },
  {
   "metadata": {
    "ExecuteTime": {
     "end_time": "2025-06-05T17:05:35.073374Z",
     "start_time": "2025-06-05T17:05:35.063969Z"
    }
   },
   "cell_type": "code",
   "source": [
    "a = [1,2,3]\n",
    "b = [4,5,6]\n",
    "a+b"
   ],
   "id": "f0a7c26748c25922",
   "outputs": [
    {
     "data": {
      "text/plain": [
       "[1, 2, 3, 4, 5, 6]"
      ]
     },
     "execution_count": 1,
     "metadata": {},
     "output_type": "execute_result"
    }
   ],
   "execution_count": 1
  },
  {
   "metadata": {
    "ExecuteTime": {
     "end_time": "2025-06-04T15:06:35.148057Z",
     "start_time": "2025-06-04T15:06:35.141947Z"
    }
   },
   "cell_type": "code",
   "source": [
    "system_prompt = \"\"\"You are a sentiment analysis assistant, performing sentiment analysis on a given laptop product review and corresponding aspects. There are only four emotion categories: positive, negative, conflict, and neutral. The assistant first thinks about the reasoning process in the mind and then provides the user with the answer. The reasoning process and answer are enclosed within <reasoning> </reasoning> and <answer> </answer> tags, respectively, i.e., <reasoning> reasoning process here </reasoning> <answer> answer here </answer>. For example, analyze the sentiment polarity of 4 aspects “battery, screen, price and warranty” in sentence \"Good battery, bad screen, the price is expensive but worth it, not sure about the warranty\". <reasoning> Let’s analyze it step by step. Users need to analyze the sentiment polarity of words in four aspects. The sentence expresses distinct opinions about different aspects. The phrase “Good battery” clearly conveys a positive sentiment toward the battery, using the adjective “good” without any qualifiers. In contrast, “bad screen” directly reflects a negative sentiment about the screen, as “bad” is an unambiguous negative descriptor. The statement “the price is expensive but worth it” presents a conflicted view of the price: while “expensive” suggests a negative perception, “worth it” introduces a compensating positive judgment, indicating mixed feelings. Finally, “not sure about the warranty” reveals uncertainty rather than any clear opinion, making the sentiment toward the warranty neutral. </reasoning> <answer> positive, negative, conflict, neutral </answer>\"\"\"\n",
    "\n",
    "system_prompt = \"\"\"You are a sentiment analysis assistant. Given a laptop product review and a list of aspects, your task is to determine the sentiment polarity for each aspect. The possible sentiment categories are: positive, negative, conflict, and neutral.\n",
    "\n",
    "You must first explain your reasoning and then provide the final sentiment labels. Wrap your explanation inside <reasoning> tags and the final output inside <answer> tags. The format must be:\n",
    "\n",
    "<reasoning> your reasoning here </reasoning>\n",
    "<answer> label1, label2, ... </answer>\n",
    "\n",
    "Example:\n",
    "Sentence: \"Good battery, bad screen, the price is expensive but worth it, not sure about the warranty\"\n",
    "Aspects: battery, screen, price, warranty\n",
    "<reasoning>Let’s analyze it step by step. Users need to analyze the sentiment polarity of words in 4 aspects. The phrase “Good battery” expresses a clearly positive opinion toward the battery. “bad screen” reflects a negative sentiment about the screen. “the price is expensive but worth it” indicates a mix of negative and positive cues, thus a conflicted sentiment. “not sure about the warranty” shows uncertainty, so the sentiment is neutral. </reasoning>\n",
    "<answer>positive, negative, conflict, neutral</answer>\"\"\""
   ],
   "id": "aaebbb6542bb7141",
   "outputs": [],
   "execution_count": 25
  },
  {
   "metadata": {
    "ExecuteTime": {
     "end_time": "2025-06-04T15:17:16.338684Z",
     "start_time": "2025-06-04T15:17:16.333685Z"
    }
   },
   "cell_type": "code",
   "source": [
    "import re\n",
    "\n",
    "text = \"\"\"1235436<reasoning>Let’s analyze it step by step. Users need to analyze the sentiment polarity of words in 4 aspects. The phrase “Good battery” expresses a clearly positive opinion toward the battery. “bad screen” reflects a negative sentiment about the screen. “the price is expensive but worth it” indicates a mix of negative and positive cues, thus a conflicted sentiment. “not sure about the warranty” shows uncertainty, so the sentiment is neutral. </reasoning>\n",
    "<answer>positive, negative, conflict, neutral</answer>547239875\"\"\"\n",
    "\n",
    "# 正则模式\n",
    "pattern = r\"<reasoning>((?:(?!<reasoning>|</reasoning>).)*?)</reasoning>\\n<answer>((?:(?!<answer>|</answer>).)*?)</answer>\"\n",
    "\n",
    "# 查找第一个匹配\n",
    "match = re.search(pattern, text, re.DOTALL)\n",
    "\n",
    "# 输出结果\n",
    "if match:\n",
    "    print(\"✅ 提取成功：\\n\")\n",
    "    print(match.group())\n",
    "else:\n",
    "    print(\"❌ 没有找到符合格式的内容\")"
   ],
   "id": "8648aa07dc1eb613",
   "outputs": [
    {
     "name": "stdout",
     "output_type": "stream",
     "text": [
      "✅ 提取成功：\n",
      "\n",
      "<reasoning>Let’s analyze it step by step. Users need to analyze the sentiment polarity of words in 4 aspects. The phrase “Good battery” expresses a clearly positive opinion toward the battery. “bad screen” reflects a negative sentiment about the screen. “the price is expensive but worth it” indicates a mix of negative and positive cues, thus a conflicted sentiment. “not sure about the warranty” shows uncertainty, so the sentiment is neutral. </reasoning>\n",
      "<answer>positive, negative, conflict, neutral</answer>\n"
     ]
    }
   ],
   "execution_count": 33
  },
  {
   "metadata": {
    "ExecuteTime": {
     "end_time": "2025-06-04T15:45:45.936723Z",
     "start_time": "2025-06-04T15:45:45.931883Z"
    }
   },
   "cell_type": "code",
   "source": "None in [\"a\"]",
   "id": "b08689c8a2c62fd3",
   "outputs": [
    {
     "data": {
      "text/plain": [
       "False"
      ]
     },
     "execution_count": 36,
     "metadata": {},
     "output_type": "execute_result"
    }
   ],
   "execution_count": 36
  },
  {
   "metadata": {},
   "cell_type": "code",
   "outputs": [],
   "execution_count": null,
   "source": [
    "请阅读以下评论，并结合给定的方面词和情感极性，进行逐个方面的情感分析，推理过程应自然流畅，体现出模型在理解语义后作出的判断，而非列出参考答案。\n",
    "\n",
    "【评论】：\n",
    "I am pleased with the fast log on, speedy WiFi connection and the long battery life (>6 hrs).\n",
    "\n",
    "【方面词及其情感】：\n",
    "log on：positive\n",
    "WiFi connection: positive\n",
    "battery life: positive\n",
    "\n",
    "请你结合文本内容，对每个方面进行推理分析，写出你是如何判断出其情感极性的。推理可以适当引用评论中的具体句子，但不要照搬原文，要用自己的话组织语言，使推理过程看起来像是你自己思考后的结果。\n",
    "推理过程必须用英文表达。\n",
    "如果包含多个方面词，只需要在一段话中返回全部推理。\n",
    "只需要返回推理过程，不需要返回任何解释和说明，以json格式返回。\n",
    "\n",
    "【输出格式】：\n",
    "{“reasoning”：reasoning}  -> {str:str}"
   ],
   "id": "480cd5bf4f46b0"
  },
  {
   "metadata": {
    "ExecuteTime": {
     "end_time": "2025-06-06T08:39:51.080085Z",
     "start_time": "2025-06-06T08:39:51.026950Z"
    }
   },
   "cell_type": "code",
   "source": [
    "import json\n",
    "from collections import Counter\n",
    "# 打开文件并读取JSON数据\n",
    "max_len = 0\n",
    "with open(\"laptops_train_test.json\", 'r', encoding='utf-8') as f:\n",
    "    data = json.load(f)\n",
    "for i in data:\n",
    "    # if len(i[\"question\"]) > max_len:\n",
    "    #     max_len = len(i[\"question\"])\n",
    "    if len(i[\"question\"]) == 540:\n",
    "        print(i)\n",
    "print(max_len)"
   ],
   "id": "4ab08c48dde2e09",
   "outputs": [
    {
     "name": "stdout",
     "output_type": "stream",
     "text": [
      "{'question': \"Analyze the sentiment polarity of aspects “Windows update” in the comment “In\\xa0November my computer messed up entirely and wouldn't power on after intalling a Windows update, I had to have my HD flashed and lost EVERYTHING on it, including my school assignments and irriplaceable pictures that were only in digital format and several other things, when this update was installed for some reason I was unable to roll back the drivers and everything to an earlier working condition because when the update was installed it deleted my history.”\", 'answer': 'neutral', 'original_data': {'text': \"In\\xa0November my computer messed up entirely and wouldn't power on after intalling a Windows update, I had to have my HD flashed and lost EVERYTHING on it, including my school assignments and irriplaceable pictures that were only in digital format and several other things, when this update was installed for some reason I was unable to roll back the drivers and everything to an earlier working condition because when the update was installed it deleted my history.\", 'id': '1924', 'aspects': [{'term': 'HD', 'polarity': 'negative', 'implicit': 'True', 'from_to': ['116', '118'], 'opinion': '####'}, {'term': 'drivers', 'polarity': 'negative', 'implicit': 'True', 'from_to': ['349', '356'], 'opinion': '####'}, {'term': 'Windows update', 'polarity': 'neutral', 'implicit': 'False', 'from_to': ['83', '97'], 'opinion': 'messed up'}]}}\n",
      "{'question': \"Analyze the sentiment polarity of aspects “Windows update” in the comment “In\\xa0November my computer messed up entirely and wouldn't power on after intalling a Windows update, I had to have my HD flashed and lost EVERYTHING on it, including my school assignments and irriplaceable pictures that were only in digital format and several other things, when this update was installed for some reason I was unable to roll back the drivers and everything to an earlier working condition because when the update was installed it deleted my history.”\", 'answer': 'neutral', 'original_data': {'text': \"In\\xa0November my computer messed up entirely and wouldn't power on after intalling a Windows update, I had to have my HD flashed and lost EVERYTHING on it, including my school assignments and irriplaceable pictures that were only in digital format and several other things, when this update was installed for some reason I was unable to roll back the drivers and everything to an earlier working condition because when the update was installed it deleted my history.\", 'id': '1924', 'aspects': [{'term': 'HD', 'polarity': 'negative', 'implicit': 'True', 'from_to': ['116', '118'], 'opinion': '####'}, {'term': 'drivers', 'polarity': 'negative', 'implicit': 'True', 'from_to': ['349', '356'], 'opinion': '####'}, {'term': 'Windows update', 'polarity': 'neutral', 'implicit': 'False', 'from_to': ['83', '97'], 'opinion': 'messed up'}]}}\n",
      "0\n"
     ]
    }
   ],
   "execution_count": 5
  },
  {
   "metadata": {},
   "cell_type": "code",
   "outputs": [],
   "execution_count": null,
   "source": "",
   "id": "ec3cb604909979bd"
  }
 ],
 "metadata": {
  "kernelspec": {
   "display_name": "Python 3",
   "language": "python",
   "name": "python3"
  },
  "language_info": {
   "codemirror_mode": {
    "name": "ipython",
    "version": 2
   },
   "file_extension": ".py",
   "mimetype": "text/x-python",
   "name": "python",
   "nbconvert_exporter": "python",
   "pygments_lexer": "ipython2",
   "version": "2.7.6"
  }
 },
 "nbformat": 4,
 "nbformat_minor": 5
}
