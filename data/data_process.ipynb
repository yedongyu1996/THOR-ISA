{
 "cells": [
  {
   "cell_type": "code",
   "id": "initial_id",
   "metadata": {
    "collapsed": true,
    "ExecuteTime": {
     "end_time": "2025-06-03T16:14:50.237281Z",
     "start_time": "2025-06-03T16:14:50.186260Z"
    }
   },
   "source": [
    "import xml.etree.ElementTree as ET\n",
    "import json\n",
    "# 解析XML文件\n",
    "tree = ET.parse('laptops/Laptops_Test_Gold_Implicit_Labeled.xml')\n",
    "root = tree.getroot()\n",
    "data = []\n",
    "for i in root.findall('sentence'):\n",
    "    single_data = {'text': i.find('text').text}\n",
    "    if i.find('aspectTerms'):\n",
    "        for e in i.find('aspectTerms').findall('aspectTerm'):\n",
    "            term = e.get('term')\n",
    "            polarity = e.get('polarity') # negative/positive/neutral/conflict\n",
    "            implicit = e.get('implicit_sentiment', \"####\") # False/True\n",
    "            opinion = e.get('opinion_words', '####') # False/True\n",
    "            start = e.get('from')\n",
    "            end = e.get('to')\n",
    "            if \"aspects\" in single_data:\n",
    "                single_data['aspects'].append({'term': term, \"polarity\": polarity, \"implicit\": implicit, \"from_to\": [start, end], \"opinion\": opinion})\n",
    "            else:\n",
    "                single_data['aspects'] = [{'term': term, \"polarity\": polarity, \"implicit\": implicit, \"from_to\": [start, end], \"opinion\": opinion}]\n",
    "    data.append(single_data)\n",
    "\n",
    "file_path = \"laptops/laptops_test.json\"         # 输出的 JSON 文件路径\n",
    "\n",
    "# 将 list 写入 JSON 文件\n",
    "with open(file_path, \"w+\") as f:\n",
    "    json.dump(data, f, indent=4)  # indent=4 使 JSON 文件格式化更美观"
   ],
   "outputs": [
    {
     "name": "stderr",
     "output_type": "stream",
     "text": [
      "C:\\Users\\Ye\\AppData\\Local\\Temp\\ipykernel_8836\\1264720643.py:9: DeprecationWarning: Testing an element's truth value will raise an exception in future versions.  Use specific 'len(elem)' or 'elem is not None' test instead.\n",
      "  if i.find('aspectTerms'):\n"
     ]
    }
   ],
   "execution_count": 1
  },
  {
   "metadata": {
    "ExecuteTime": {
     "end_time": "2025-06-02T16:25:39.171849Z",
     "start_time": "2025-06-02T16:25:39.159494Z"
    }
   },
   "cell_type": "code",
   "source": [
    "import json\n",
    "test_data = []\n",
    "with (open('laptops/laptops_test.json', 'r+', encoding='utf-8') as f):\n",
    "    # system_prompt = \"\"\"You are a sentiment analysis assistant, performing sentiment analysis on a given laptop product review and corresponding aspects. There are only four emotion categories: positive, negative, conflict, and neutral. The assistant first thinks about the reasoning process in the mind and then provides the user with the answer. The reasoning process and answer are enclosed within <reasoning> </reasoning> and <answer> </answer> tags, respectively, i.e., <reasoning> reasoning process here </reasoning> <answer> answer here </answer>. For example, analyze the sentiment polarity of 4 aspects “battery, screen, price and warranty” in sentence \"Good battery, bad screen, the price is expensive but worth it, not sure about the warranty\". <reasoning> Let’s analyze it step by step. Users need to analyze the sentiment polarity of words in four aspects. The sentence expresses distinct opinions about different aspects. The phrase “Good battery” clearly conveys a positive sentiment toward the battery, using the adjective “good” without any qualifiers. In contrast, “bad screen” directly reflects a negative sentiment about the screen, as “bad” is an unambiguous negative descriptor. The statement “the price is expensive but worth it” presents a conflicted view of the price: while “expensive” suggests a negative perception, “worth it” introduces a compensating positive judgment, indicating mixed feelings. Finally, “not sure about the warranty” reveals uncertainty rather than any clear opinion, making the sentiment toward the warranty neutral. </reasoning> <answer> positive, negative, conflict, neutral </answer>\"\"\"\n",
    "\n",
    "    system_prompt = \"\"\"You are a sentiment analysis assistant. Given a laptop product review and a list of aspects, your task is to determine the sentiment polarity for each aspect. The possible sentiment categories are: positive, negative, conflict, and neutral.\n",
    "\n",
    "You must first explain your reasoning and then provide the final sentiment labels. Wrap your explanation inside <reasoning> tags and the final output inside <answer> tags. The format must be:\n",
    "\n",
    "<reasoning> your reasoning here </reasoning>\n",
    "<answer> label1, label2, ... </answer>\n",
    "\n",
    "Example:\n",
    "Sentence: \"Good battery, bad screen, the price is expensive but worth it, not sure about the warranty\"\n",
    "Aspects: battery, screen, price, warranty\n",
    "<reasoning>Let’s analyze it step by step. Users need to analyze the sentiment polarity of words in 4 aspects. The phrase “Good battery” expresses a clearly positive opinion toward the battery. “bad screen” reflects a negative sentiment about the screen. “the price is expensive but worth it” indicates a mix of negative and positive cues, thus a conflicted sentiment. “not sure about the warranty” shows uncertainty, so the sentiment is neutral. </reasoning>\n",
    "<answer>positive, negative, conflict, neutral</answer>\n",
    "\"\"\"\n",
    "    data = json.load(f)\n",
    "    for i in data:\n",
    "        if 'aspects' in i:\n",
    "            answers = []\n",
    "            aspects = []\n",
    "            text = i['text']\n",
    "            for j in i['aspects']:\n",
    "                aspects.append(j['term'])\n",
    "                answers.append(j['polarity'])\n",
    "#             user_prompt = \"\"\"<|im_start|>user\n",
    "# Please analyze the sentiment polarity of aspect {} in sentence \"{}\"<|im_end|>\"\"\".format(', '.join(aspects), ', '.join(answers))\n",
    "            user_prompt = \"Analyze the sentiment polarity of \" + str(len(aspects))\n",
    "            if len(aspects) > 1:\n",
    "                user_prompt += \" aspects “{}” in the sentence “{}”\".format(', '.join(aspects), text)\n",
    "            else:\n",
    "                user_prompt += \" aspect “{}” in the sentence “{}”\".format(', '.join(aspects), text)\n",
    "            test_data.append({\"question\":user_prompt, \"answer\":', '.join(answers)})\n",
    "\n"
   ],
   "id": "70456afb1223e197",
   "outputs": [],
   "execution_count": 48
  },
  {
   "metadata": {
    "ExecuteTime": {
     "end_time": "2025-06-02T16:25:44.160273Z",
     "start_time": "2025-06-02T16:25:44.155479Z"
    }
   },
   "cell_type": "code",
   "source": "len(test_data)",
   "id": "aaebbb6542bb7141",
   "outputs": [
    {
     "data": {
      "text/plain": [
       "422"
      ]
     },
     "execution_count": 50,
     "metadata": {},
     "output_type": "execute_result"
    }
   ],
   "execution_count": 50
  },
  {
   "metadata": {
    "ExecuteTime": {
     "end_time": "2025-06-02T16:25:48.415406Z",
     "start_time": "2025-06-02T16:25:48.403301Z"
    }
   },
   "cell_type": "code",
   "source": [
    "with open(\"laptop_test.json\", \"w+\", encoding='utf-8') as f:\n",
    "    json.dump(train_data, f, ensure_ascii=False)"
   ],
   "id": "3e186a27dd20456b",
   "outputs": [],
   "execution_count": 51
  },
  {
   "metadata": {
    "ExecuteTime": {
     "end_time": "2025-06-02T15:18:27.621835Z",
     "start_time": "2025-06-02T15:18:27.615776Z"
    }
   },
   "cell_type": "code",
   "source": [
    "a = [\"a\", \"b\"]\n",
    "', '.join(a)"
   ],
   "id": "d74750ba404a64ba",
   "outputs": [
    {
     "data": {
      "text/plain": [
       "'a, b'"
      ]
     },
     "execution_count": 17,
     "metadata": {},
     "output_type": "execute_result"
    }
   ],
   "execution_count": 17
  },
  {
   "metadata": {},
   "cell_type": "code",
   "outputs": [],
   "execution_count": null,
   "source": "",
   "id": "480cd5bf4f46b0"
  }
 ],
 "metadata": {
  "kernelspec": {
   "display_name": "Python 3",
   "language": "python",
   "name": "python3"
  },
  "language_info": {
   "codemirror_mode": {
    "name": "ipython",
    "version": 2
   },
   "file_extension": ".py",
   "mimetype": "text/x-python",
   "name": "python",
   "nbconvert_exporter": "python",
   "pygments_lexer": "ipython2",
   "version": "2.7.6"
  }
 },
 "nbformat": 4,
 "nbformat_minor": 5
}
